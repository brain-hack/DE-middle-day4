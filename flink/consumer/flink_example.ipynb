{
 "cells": [
  {
   "cell_type": "code",
   "execution_count": null,
   "metadata": {},
   "outputs": [],
   "source": [
    "from pyflink.dataset import ExecutionEnvironment\n",
    "from pyflink.table import TableConfig, DataTypes, BatchTableEnvironment\n",
    "from pyflink.table.descriptors import Schema, OldCsv, FileSystem"
   ]
  },
  {
   "cell_type": "code",
   "execution_count": null,
   "metadata": {},
   "outputs": [],
   "source": [
    "exec_env = ExecutionEnvironment.get_execution_environment()\n",
    "exec_env.set_parallelism(1)"
   ]
  },
  {
   "cell_type": "code",
   "execution_count": null,
   "metadata": {},
   "outputs": [],
   "source": [
    "t_config = TableConfig()"
   ]
  },
  {
   "cell_type": "code",
   "execution_count": null,
   "metadata": {},
   "outputs": [],
   "source": [
    "t_env = BatchTableEnvironment.create(exec_env, t_config)"
   ]
  },
  {
   "cell_type": "code",
   "execution_count": null,
   "metadata": {},
   "outputs": [],
   "source": [
    "t_env.connect(FileSystem().path('./input.csv')) \\\n",
    "    .with_format(OldCsv()\n",
    "                 .line_delimiter('\\n')\n",
    "                 .line_delimiter(' ')\n",
    "                 .field('word', DataTypes.STRING())) \\\n",
    "    .with_schema(Schema()\n",
    "                 .field('word', DataTypes.STRING())) \\\n",
    "    .register_table_source('mySource')"
   ]
  },
  {
   "cell_type": "code",
   "execution_count": null,
   "metadata": {},
   "outputs": [],
   "source": [
    "t_env.connect(FileSystem().path('./output2.csv')) \\\n",
    "    .with_format(OldCsv()\n",
    "                 .field_delimiter('\\t')\n",
    "                 .field('word', DataTypes.STRING())\n",
    "                 .field('count', DataTypes.BIGINT())) \\\n",
    "    .with_schema(Schema()\n",
    "                 .field('word', DataTypes.STRING())\n",
    "                 .field('count', DataTypes.BIGINT())) \\\n",
    "    .register_table_sink('mySink')\n"
   ]
  },
  {
   "cell_type": "code",
   "execution_count": null,
   "metadata": {},
   "outputs": [],
   "source": [
    "t_env.scan('mySource') \\\n",
    "    .group_by('word') \\\n",
    "    .select('word, count(1)') \\\n",
    "    .insert_into('mySink')"
   ]
  },
  {
   "cell_type": "code",
   "execution_count": null,
   "metadata": {},
   "outputs": [],
   "source": [
    "t_env.execute(\"tutorial_job\")"
   ]
  },
  {
   "cell_type": "markdown",
   "metadata": {},
   "source": []
  },
  {
   "cell_type": "code",
   "execution_count": null,
   "metadata": {},
   "outputs": [],
   "source": []
  },
  {
   "cell_type": "code",
   "execution_count": null,
   "metadata": {},
   "outputs": [],
   "source": []
  },
  {
   "cell_type": "code",
   "execution_count": null,
   "metadata": {},
   "outputs": [],
   "source": []
  },
  {
   "cell_type": "code",
   "execution_count": null,
   "metadata": {},
   "outputs": [],
   "source": []
  },
  {
   "cell_type": "code",
   "execution_count": null,
   "metadata": {},
   "outputs": [],
   "source": [
    "from pyflink.table import StreamTableEnvironment\n",
    "from pyflink.datastream import StreamExecutionEnvironment\n",
    "from pyflink.table.descriptors import Schema, OldCsv, FileSystem, \n"
   ]
  },
  {
   "cell_type": "code",
   "execution_count": null,
   "metadata": {},
   "outputs": [],
   "source": [
    "exec_env = StreamExecutionEnvironment.get_execution_environment()\n",
    "exec_env.set_parallelism(1)"
   ]
  },
  {
   "cell_type": "code",
   "execution_count": null,
   "metadata": {},
   "outputs": [],
   "source": [
    "t_config = TableConfig()"
   ]
  },
  {
   "cell_type": "code",
   "execution_count": null,
   "metadata": {},
   "outputs": [],
   "source": [
    "t_env = StreamTableEnvironment.create(exec_env, t_config)"
   ]
  },
  {
   "cell_type": "code",
   "execution_count": null,
   "metadata": {},
   "outputs": [],
   "source": [
    "t_env.connect(Kafka().properties({'localhost':'2181','localhost':'2182','localhost':'2183'}).topic('exampleTopic2')) \\\n",
    "    .register_table_source('mySource')"
   ]
  },
  {
   "cell_type": "code",
   "execution_count": null,
   "metadata": {},
   "outputs": [],
   "source": []
  }
 ],
 "metadata": {
  "kernelspec": {
   "display_name": "Python 3",
   "language": "python",
   "name": "python3"
  },
  "language_info": {
   "codemirror_mode": {
    "name": "ipython",
    "version": 3
   },
   "file_extension": ".py",
   "mimetype": "text/x-python",
   "name": "python",
   "nbconvert_exporter": "python",
   "pygments_lexer": "ipython3",
   "version": "3.6.9"
  }
 },
 "nbformat": 4,
 "nbformat_minor": 2
}
